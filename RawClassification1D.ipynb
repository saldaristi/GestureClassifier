{
  "cells": [
    {
      "cell_type": "code",
      "execution_count": 1,
      "metadata": {
        "id": "-esfSewuReXe"
      },
      "outputs": [
        {
          "name": "stderr",
          "output_type": "stream",
          "text": [
            "c:\\Users\\nelso\\anaconda3\\envs\\gesture_env\\lib\\site-packages\\tqdm\\auto.py:21: TqdmWarning: IProgress not found. Please update jupyter and ipywidgets. See https://ipywidgets.readthedocs.io/en/stable/user_install.html\n",
            "  from .autonotebook import tqdm as notebook_tqdm\n"
          ]
        }
      ],
      "source": [
        "#Importar las librerías necesarias\n",
        "import numpy as np\n",
        "import pandas as pd\n",
        "import tensorflow as tf\n",
        "from tensorflow import keras\n",
        "from sklearn.model_selection import train_test_split\n",
        "from sklearn.preprocessing import StandardScaler\n",
        "from sklearn.metrics import accuracy_score, precision_score, recall_score, f1_score, confusion_matrix\n",
        "from scipy.io import loadmat\n",
        "from scipy.signal import spectrogram\n",
        "from keras.models import Sequential\n",
        "from keras.layers import Conv1D, MaxPooling1D, Flatten, Dense, Dropout, BatchNormalization, Bidirectional, LSTM\n",
        "from keras.callbacks import EarlyStopping\n",
        "from keras.utils import to_categorical\n",
        "from sklearn.metrics import classification_report, confusion_matrix\n",
        "from sklearn.model_selection import GridSearchCV\n",
        "from keras.optimizers import Adam\n",
        "from keras.layers import TimeDistributed\n",
        "from sklearn.base import BaseEstimator, ClassifierMixin\n",
        "import os\n",
        "import matplotlib.pyplot as plt\n",
        "import seaborn as sns\n",
        "import scipy.signal as signal\n",
        "import optuna\n"
      ]
    },
    {
      "cell_type": "code",
      "execution_count": 2,
      "metadata": {},
      "outputs": [],
      "source": [
        "pathTrain = \"Datasets\\Train\"\n",
        "pathTest = \"Datasets\\Test\""
      ]
    },
    {
      "cell_type": "code",
      "execution_count": 3,
      "metadata": {
        "id": "2aEKx2gWf9vZ"
      },
      "outputs": [],
      "source": [
        "##############################Cargar las matrices por gesto TRAIN#######################################\n",
        "# Listado de nombres de archivos .mat que quieres cargar\n",
        "nombres_archivos = ['Reposo', 'Extension', 'Flexion','DesvCubital', 'DesvRadial', 'Agarre','Abduccion', 'Aduccion', 'Supinacion','Pronacion']\n",
        "matrices_normalizadas_train = []\n",
        "\n",
        "# Carga los archivos .mat y realiza la normalización de las matrices con z-score\n",
        "for nombre_archivo in nombres_archivos:\n",
        "    nombre_mat = nombre_archivo+'.mat'\n",
        "    ruta_archivo = os.path.join(pathTrain, nombre_mat)  # Ruta completa del archivo\n",
        "    data = loadmat(ruta_archivo)\n",
        "    datos = data[nombre_archivo]\n",
        "    datos = datos[:,[0,1]] #Se cargan los canales 1 y 2\n",
        "    \n",
        "    # Calcular la media y la desviación estándar a lo largo del eje deseado (por ejemplo, eje 0)\n",
        "    media = np.mean(datos, axis=0)\n",
        "    desviacion_estandar = np.std(datos, axis=0)\n",
        "    \n",
        "    # Normalizar los datos utilizando z-score\n",
        "    datos_normalizados = (datos - media) / desviacion_estandar\n",
        "    \n",
        "    #Almacenar las matrices resultantes en una lista\n",
        "    matrices_normalizadas_train.append(datos_normalizados)"
      ]
    },
    {
      "cell_type": "code",
      "execution_count": 4,
      "metadata": {
        "colab": {
          "base_uri": "https://localhost:8080/"
        },
        "id": "qFL-N1SDkano",
        "outputId": "521e6523-66d8-4877-9584-ff946d7c648a"
      },
      "outputs": [
        {
          "name": "stdout",
          "output_type": "stream",
          "text": [
            "[(1920000, 2), (1920000, 2), (1920000, 2), (1920000, 2), (1920000, 2), (1920000, 2), (1920000, 2), (1920000, 2), (1920000, 2), (1920000, 2)]\n"
          ]
        }
      ],
      "source": [
        "#Se verifica que todas las matrices resultantes tengan los tamaños correspondientes\n",
        "def obtener_tamanos_matrices(lista_matrices):\n",
        "    tamanos = []\n",
        "    for matriz in lista_matrices:\n",
        "        tamanos.append(matriz.shape)\n",
        "    return tamanos\n",
        "\n",
        "tamanos = obtener_tamanos_matrices(matrices_normalizadas_train)\n",
        "print(tamanos)"
      ]
    },
    {
      "cell_type": "code",
      "execution_count": 6,
      "metadata": {
        "id": "PxPj52DQm00-"
      },
      "outputs": [],
      "source": [
        "# Crea una lista para almacenar los espectrogramas apilados de cada gesto\n",
        "stacked_spectrograms_train = []\n",
        "\n",
        "# Parámetros de la ventana deslizante\n",
        "window_size = 700  # Tamaño de la ventana deslizante\n",
        "overlap = 0.2  # Superposición entre ventanas (50%)\n",
        "\n",
        "for gesture_matrix in matrices_normalizadas_train:\n",
        "    # Obtén las dimensiones de los espectrogramas\n",
        "    num_spectrograms = int(np.floor((gesture_matrix.shape[0] - window_size) / (window_size * (1 - overlap)))) + 1\n",
        "    #spectrogram_length = int(window_size / 2) + 1  # Longitud de los espectrogramas (la mitad de la ventana deslizante)\n",
        "\n",
        "    # Crea una matriz tridimensional para almacenar los espectrogramas apilados de un gesto\n",
        "    stacked_gesture_spectrograms = np.zeros((num_spectrograms, window_size, 2))\n",
        "\n",
        "    # Aplica ventanas deslizantes y calcula los espectrogramas\n",
        "    for i in range(num_spectrograms):\n",
        "        start = int(i * window_size * (1 - overlap))\n",
        "        end = start + window_size\n",
        "\n",
        "        # Aplica la ventana deslizante a las señales EMG\n",
        "        windowed_signals = gesture_matrix[start:end, :]\n",
        "\n",
        "        # Calcula los espectrogramas de cada canal\n",
        "        # spectrogram_channel1 = signal.spectrogram(windowed_signals[:, 0], fs=2000, nperseg=window_size, noverlap=int(window_size * overlap))\n",
        "        # spectrogram_channel2 = signal.spectrogram(windowed_signals[:, 1], fs=2000, nperseg=window_size, noverlap=int(window_size * overlap))\n",
        "\n",
        "        # Asigna los espectrogramas de cada canal a la matriz tridimensional\n",
        "        stacked_gesture_spectrograms[i, :, 0] = windowed_signals[:, 0]  # Transpón el espectrograma\n",
        "        stacked_gesture_spectrograms[i, :, 1] = windowed_signals[:, 1]\n",
        "\n",
        "    # Agrega la matriz apilada del gesto a la lista\n",
        "    stacked_spectrograms_train.append(stacked_gesture_spectrograms)\n",
        "\n",
        "# La lista stacked_spectrograms ahora contiene las matrices tridimensionales de los espectrogramas apilados de cada gesto\n",
        "# Cada elemento de la lista representa un gesto y tiene una forma (N, longitud_fija, 2), donde N es el número de espectrogramas y longitud_fija es la longitud común de los espectrogramas"
      ]
    },
    {
      "cell_type": "code",
      "execution_count": 7,
      "metadata": {
        "colab": {
          "base_uri": "https://localhost:8080/"
        },
        "id": "s8rbR0eZYnXI",
        "outputId": "2a3bb26d-cea5-437b-bd24-d2efa85d426e"
      },
      "outputs": [
        {
          "name": "stdout",
          "output_type": "stream",
          "text": [
            "[(3428, 700, 2), (3428, 700, 2), (3428, 700, 2), (3428, 700, 2), (3428, 700, 2), (3428, 700, 2), (3428, 700, 2), (3428, 700, 2), (3428, 700, 2), (3428, 700, 2)]\n"
          ]
        }
      ],
      "source": [
        "#Se verifica que todas los espectrogramas tengan los tamaños correspondientes\n",
        "def obtener_tamanos_matrices(lista_matrices):\n",
        "    tamanos = []\n",
        "    for matriz in lista_matrices:\n",
        "        tamanos.append(matriz.shape)\n",
        "    return tamanos\n",
        "\n",
        "tamanos = obtener_tamanos_matrices(stacked_spectrograms_train)\n",
        "print(tamanos)"
      ]
    },
    {
      "cell_type": "code",
      "execution_count": 8,
      "metadata": {
        "id": "5pditGToEw6Z"
      },
      "outputs": [],
      "source": [
        "##############################Cargar las matrices por gesto TEST#######################################\n",
        "# Listado de nombres de archivos .mat que quieres cargar\n",
        "nombres_archivos = ['Reposo', 'Extension', 'Flexion','DesvCubital', 'DesvRadial', 'Agarre','Abduccion', 'Aduccion', 'Supinacion','Pronacion']\n",
        "matrices_normalizadas_test = []\n",
        "\n",
        "# Carga los archivos .mat y realiza la normalización de las matrices con z-score\n",
        "for nombre_archivo in nombres_archivos:\n",
        "    nombre_mat = nombre_archivo+'.mat'\n",
        "    ruta_archivo = os.path.join(pathTest, nombre_mat)  # Ruta completa del archivo\n",
        "    data = loadmat(ruta_archivo)\n",
        "    datos = data[nombre_archivo]\n",
        "    datos = datos[:,[0,1]] #Se cargan los canales 1 y 3\n",
        "    \n",
        "    # Calcular la media y la desviación estándar a lo largo del eje deseado (por ejemplo, eje 0)\n",
        "    media = np.mean(datos, axis=0)\n",
        "    desviacion_estandar = np.std(datos, axis=0)\n",
        "    \n",
        "    # Normalizar los datos utilizando z-score\n",
        "    datos_normalizados = (datos - media) / desviacion_estandar\n",
        "    \n",
        "    #Almacenar las matrices resultantes en una lista\n",
        "    matrices_normalizadas_test.append(datos_normalizados)"
      ]
    },
    {
      "cell_type": "code",
      "execution_count": 9,
      "metadata": {
        "colab": {
          "base_uri": "https://localhost:8080/"
        },
        "id": "_qKokT2YE72h",
        "outputId": "b32a7502-cb98-42ed-b59c-edf533d04880"
      },
      "outputs": [
        {
          "name": "stdout",
          "output_type": "stream",
          "text": [
            "[(480000, 2), (480000, 2), (480000, 2), (480000, 2), (480000, 2), (480000, 2), (480000, 2), (480000, 2), (480000, 2), (480000, 2)]\n"
          ]
        }
      ],
      "source": [
        "#Se verifica que todas las matrices resultantes tengan los tamaños correspondientes\n",
        "def obtener_tamanos_matrices(lista_matrices):\n",
        "    tamanos = []\n",
        "    for matriz in lista_matrices:\n",
        "        tamanos.append(matriz.shape)\n",
        "    return tamanos\n",
        "\n",
        "tamanos = obtener_tamanos_matrices(matrices_normalizadas_test)\n",
        "print(tamanos)"
      ]
    },
    {
      "cell_type": "code",
      "execution_count": 10,
      "metadata": {
        "id": "qjfQ1JorFKfo"
      },
      "outputs": [],
      "source": [
        "# Crea una lista para almacenar los espectrogramas apilados de cada gesto\n",
        "stacked_spectrograms_test = []\n",
        "\n",
        "# Parámetros de la ventana deslizante\n",
        "window_size = 700  # Tamaño de la ventana deslizante\n",
        "overlap = 0.2  # Superposición entre ventanas (50%)\n",
        "\n",
        "for gesture_matrix in matrices_normalizadas_test:\n",
        "    # Obtén las dimensiones de los espectrogramas\n",
        "    num_spectrograms = int(np.floor((gesture_matrix.shape[0] - window_size) / (window_size * (1 - overlap)))) + 1\n",
        "    spectrogram_length = int(window_size / 2) + 1  # Longitud de los espectrogramas (la mitad de la ventana deslizante)\n",
        "\n",
        "    # Crea una matriz tridimensional para almacenar los espectrogramas apilados de un gesto\n",
        "    stacked_gesture_spectrograms = np.zeros((num_spectrograms, window_size, 2))\n",
        "\n",
        "    # Aplica ventanas deslizantes y calcula los espectrogramas\n",
        "    for i in range(num_spectrograms):\n",
        "        start = int(i * window_size * (1 - overlap))\n",
        "        end = start + window_size\n",
        "\n",
        "        # Aplica la ventana deslizante a las señales EMG\n",
        "        windowed_signals = gesture_matrix[start:end, :]\n",
        "\n",
        "        # Calcula los espectrogramas de cada canal\n",
        "        # spectrogram_channel1 = signal.spectrogram(windowed_signals[:, 0], fs=2000, nperseg=window_size, noverlap=int(window_size * overlap))\n",
        "        # spectrogram_channel2 = signal.spectrogram(windowed_signals[:, 1], fs=2000, nperseg=window_size, noverlap=int(window_size * overlap))\n",
        "\n",
        "        # Asigna los espectrogramas de cada canal a la matriz tridimensional\n",
        "        stacked_gesture_spectrograms[i, :, 0] = windowed_signals[:, 0]  # Transpón el espectrograma\n",
        "        stacked_gesture_spectrograms[i, :, 1] = windowed_signals[:, 1]\n",
        "\n",
        "    # Agrega la matriz apilada del gesto a la lista\n",
        "    stacked_spectrograms_test.append(stacked_gesture_spectrograms)\n",
        "\n",
        "# La lista stacked_spectrograms ahora contiene las matrices tridimensionales de los espectrogramas apilados de cada gesto\n",
        "# Cada elemento de la lista representa un gesto y tiene una forma (N, longitud_fija, 2), donde N es el número de espectrogramas y longitud_fija es la longitud común de los espectrogramas"
      ]
    },
    {
      "cell_type": "code",
      "execution_count": 11,
      "metadata": {
        "colab": {
          "base_uri": "https://localhost:8080/"
        },
        "id": "-D1b9hNEJUVW",
        "outputId": "cd985ff5-a069-489d-efe6-04b26971aa20"
      },
      "outputs": [
        {
          "name": "stdout",
          "output_type": "stream",
          "text": [
            "[(856, 700, 2), (856, 700, 2), (856, 700, 2), (856, 700, 2), (856, 700, 2), (856, 700, 2), (856, 700, 2), (856, 700, 2), (856, 700, 2), (856, 700, 2)]\n"
          ]
        }
      ],
      "source": [
        "#Se verifica que todas los espectrogramas tengan los tamaños correspondientes\n",
        "def obtener_tamanos_matrices(lista_matrices):\n",
        "    tamanos = []\n",
        "    for matriz in lista_matrices:\n",
        "        tamanos.append(matriz.shape)\n",
        "    return tamanos\n",
        "\n",
        "tamanos = obtener_tamanos_matrices(stacked_spectrograms_test)\n",
        "print(tamanos)"
      ]
    },
    {
      "cell_type": "code",
      "execution_count": 12,
      "metadata": {
        "colab": {
          "base_uri": "https://localhost:8080/"
        },
        "id": "p3zX_iV1KOLm",
        "outputId": "b1ce71ec-1e46-499e-f758-eb22638c188a"
      },
      "outputs": [
        {
          "name": "stdout",
          "output_type": "stream",
          "text": [
            "Dimensiones de X_train: (34280, 700, 2)\n",
            "Dimensiones de X_test: (8560, 700, 2)\n"
          ]
        }
      ],
      "source": [
        "# Apilar las matrices de espectrogramas en una sola matriz tridimensional para los datos de entrenamiento\n",
        "X_train = np.concatenate(stacked_spectrograms_train, axis=0)\n",
        "print(\"Dimensiones de X_train:\",X_train.shape)\n",
        "\n",
        "# Apilar las matrices de espectrogramas en una sola matriz tridimensional para los datos de prueba\n",
        "X_test = np.concatenate(stacked_spectrograms_test, axis=0)\n",
        "print(\"Dimensiones de X_test:\",X_test.shape)  # Verificar la forma de stacked_gestures_test\n",
        "\n",
        "T=X_train.shape[2]\n",
        "F=X_train.shape[1]"
      ]
    },
    {
      "cell_type": "code",
      "execution_count": null,
      "metadata": {
        "id": "ycZAIqNKdhc-"
      },
      "outputs": [],
      "source": [
        "#seed = 42  # Set the desired seed value\n",
        "#np.random.seed(seed)  # Set the seed for random number generation\n",
        "#shape = X_train.shape\n",
        "#random_indices = np.random.permutation(shape[axis])\n",
        "#reordered_matrix = np.take(matrix, random_indices, axis=axis)"
      ]
    },
    {
      "cell_type": "code",
      "execution_count": 13,
      "metadata": {
        "colab": {
          "base_uri": "https://localhost:8080/"
        },
        "id": "Huy10XMUK4Hl",
        "outputId": "50213a8f-39b5-4036-fdd4-05ee728abe2b"
      },
      "outputs": [
        {
          "name": "stdout",
          "output_type": "stream",
          "text": [
            "Dimensiones de y_train: (34280, 10)\n",
            "Dimensiones de y_test: (8560, 10)\n"
          ]
        }
      ],
      "source": [
        "num_etiquetas = 10  # Número de etiquetas a asignar\n",
        "muestras_por_etiqueta_train = 3428  # Número de muestras por etiqueta train\n",
        "muestras_por_etiqueta_test = 856  # Número de muestras por etiqueta test\n",
        "\n",
        "# Codificar las etiquetas en formato one-hot\n",
        "y_train = np.repeat(np.arange(num_etiquetas), muestras_por_etiqueta_train)\n",
        "y_train = to_categorical(y_train, num_etiquetas)\n",
        "\n",
        "y_test = np.repeat(np.arange(num_etiquetas), muestras_por_etiqueta_test)\n",
        "y_test = to_categorical(y_test, num_etiquetas)\n",
        "\n",
        "# Verificar las dimensiones de y_train y y_test\n",
        "print(\"Dimensiones de y_train:\", y_train.shape)\n",
        "print(\"Dimensiones de y_test:\", y_test.shape)\n"
      ]
    },
    {
      "cell_type": "code",
      "execution_count": 14,
      "metadata": {
        "id": "lmLkxyULgg0-"
      },
      "outputs": [],
      "source": [
        "# Mezcla aleatoria para X_train y y_train\n",
        "indices_train = np.random.permutation(X_train.shape[0])\n",
        "\n",
        "# Reordenar ambas matrices utilizando el mismo índice\n",
        "X_train = X_train[indices_train]\n",
        "y_train = y_train[indices_train]\n",
        "\n",
        "# Mezcla aleatoria para X_test y y_test\n",
        "indices_test = np.random.permutation(X_test.shape[0])\n",
        "\n",
        "# Reordenar ambas matrices utilizando el mismo índice\n",
        "X_test = X_test[indices_test]\n",
        "y_test = y_test[indices_test]"
      ]
    },
    {
      "cell_type": "code",
      "execution_count": 19,
      "metadata": {},
      "outputs": [
        {
          "name": "stdout",
          "output_type": "stream",
          "text": [
            "Num GPUs Available:  0\n",
            "[name: \"/device:CPU:0\"\n",
            "device_type: \"CPU\"\n",
            "memory_limit: 268435456\n",
            "locality {\n",
            "}\n",
            "incarnation: 17116566133756195199\n",
            "xla_global_id: -1\n",
            "]\n"
          ]
        }
      ],
      "source": [
        "print(\"Num GPUs Available: \", len(tf.config.list_physical_devices('GPU')))\n",
        "from tensorflow.python.client import device_lib\n",
        "print(device_lib.list_local_devices())"
      ]
    },
    {
      "cell_type": "code",
      "execution_count": 18,
      "metadata": {
        "colab": {
          "base_uri": "https://localhost:8080/"
        },
        "id": "tJ8GJhioeG7j",
        "outputId": "ae847cad-7425-49d9-d889-9df0f6c18498"
      },
      "outputs": [
        {
          "name": "stdout",
          "output_type": "stream",
          "text": [
            "Epoch 1/10\n",
            "  42/1072 [>.............................] - ETA: 19:34 - loss: 19.3083 - accuracy: 0.0952"
          ]
        },
        {
          "ename": "KeyboardInterrupt",
          "evalue": "",
          "output_type": "error",
          "traceback": [
            "\u001b[1;31m---------------------------------------------------------------------------\u001b[0m",
            "\u001b[1;31mKeyboardInterrupt\u001b[0m                         Traceback (most recent call last)",
            "Cell \u001b[1;32mIn[18], line 28\u001b[0m\n\u001b[0;32m     25\u001b[0m     \u001b[39mreturn\u001b[39;00m accuracy\n\u001b[0;32m     27\u001b[0m \u001b[39m# Ejecutar la función objetivo sin optimización de hiperparámetros\u001b[39;00m\n\u001b[1;32m---> 28\u001b[0m mejor_resultado \u001b[39m=\u001b[39m objective()\n\u001b[0;32m     30\u001b[0m \u001b[39mprint\u001b[39m(\u001b[39m\"\u001b[39m\u001b[39mMejor resultado:\u001b[39m\u001b[39m\"\u001b[39m, mejor_resultado)\n",
            "Cell \u001b[1;32mIn[18], line 19\u001b[0m, in \u001b[0;36mobjective\u001b[1;34m()\u001b[0m\n\u001b[0;32m     15\u001b[0m modelo\u001b[39m.\u001b[39mcompile(loss\u001b[39m=\u001b[39m\u001b[39m'\u001b[39m\u001b[39mcategorical_crossentropy\u001b[39m\u001b[39m'\u001b[39m, optimizer\u001b[39m=\u001b[39m\u001b[39m'\u001b[39m\u001b[39madam\u001b[39m\u001b[39m'\u001b[39m, metrics\u001b[39m=\u001b[39m[\u001b[39m'\u001b[39m\u001b[39maccuracy\u001b[39m\u001b[39m'\u001b[39m])\n\u001b[0;32m     17\u001b[0m \u001b[39m#es = EarlyStopping(monitor='val_loss', patience=3) \u001b[39;00m\n\u001b[1;32m---> 19\u001b[0m modelo\u001b[39m.\u001b[39;49mfit(X_train, y_train, validation_data\u001b[39m=\u001b[39;49m(X_test, y_test), epochs\u001b[39m=\u001b[39;49m\u001b[39m10\u001b[39;49m, batch_size\u001b[39m=\u001b[39;49m\u001b[39m32\u001b[39;49m, verbose\u001b[39m=\u001b[39;49m\u001b[39m1\u001b[39;49m)\n\u001b[0;32m     21\u001b[0m y_pred \u001b[39m=\u001b[39m modelo\u001b[39m.\u001b[39mpredict(X_test)\n\u001b[0;32m     22\u001b[0m y_pred \u001b[39m=\u001b[39m np\u001b[39m.\u001b[39margmax(y_pred, axis\u001b[39m=\u001b[39m\u001b[39m1\u001b[39m)\n",
            "File \u001b[1;32mc:\\Users\\nelso\\anaconda3\\envs\\gesture_env\\lib\\site-packages\\keras\\utils\\traceback_utils.py:65\u001b[0m, in \u001b[0;36mfilter_traceback.<locals>.error_handler\u001b[1;34m(*args, **kwargs)\u001b[0m\n\u001b[0;32m     63\u001b[0m filtered_tb \u001b[39m=\u001b[39m \u001b[39mNone\u001b[39;00m\n\u001b[0;32m     64\u001b[0m \u001b[39mtry\u001b[39;00m:\n\u001b[1;32m---> 65\u001b[0m     \u001b[39mreturn\u001b[39;00m fn(\u001b[39m*\u001b[39margs, \u001b[39m*\u001b[39m\u001b[39m*\u001b[39mkwargs)\n\u001b[0;32m     66\u001b[0m \u001b[39mexcept\u001b[39;00m \u001b[39mException\u001b[39;00m \u001b[39mas\u001b[39;00m e:\n\u001b[0;32m     67\u001b[0m     filtered_tb \u001b[39m=\u001b[39m _process_traceback_frames(e\u001b[39m.\u001b[39m__traceback__)\n",
            "File \u001b[1;32mc:\\Users\\nelso\\anaconda3\\envs\\gesture_env\\lib\\site-packages\\keras\\engine\\training.py:1564\u001b[0m, in \u001b[0;36mModel.fit\u001b[1;34m(self, x, y, batch_size, epochs, verbose, callbacks, validation_split, validation_data, shuffle, class_weight, sample_weight, initial_epoch, steps_per_epoch, validation_steps, validation_batch_size, validation_freq, max_queue_size, workers, use_multiprocessing)\u001b[0m\n\u001b[0;32m   1556\u001b[0m \u001b[39mwith\u001b[39;00m tf\u001b[39m.\u001b[39mprofiler\u001b[39m.\u001b[39mexperimental\u001b[39m.\u001b[39mTrace(\n\u001b[0;32m   1557\u001b[0m     \u001b[39m\"\u001b[39m\u001b[39mtrain\u001b[39m\u001b[39m\"\u001b[39m,\n\u001b[0;32m   1558\u001b[0m     epoch_num\u001b[39m=\u001b[39mepoch,\n\u001b[1;32m   (...)\u001b[0m\n\u001b[0;32m   1561\u001b[0m     _r\u001b[39m=\u001b[39m\u001b[39m1\u001b[39m,\n\u001b[0;32m   1562\u001b[0m ):\n\u001b[0;32m   1563\u001b[0m     callbacks\u001b[39m.\u001b[39mon_train_batch_begin(step)\n\u001b[1;32m-> 1564\u001b[0m     tmp_logs \u001b[39m=\u001b[39m \u001b[39mself\u001b[39;49m\u001b[39m.\u001b[39;49mtrain_function(iterator)\n\u001b[0;32m   1565\u001b[0m     \u001b[39mif\u001b[39;00m data_handler\u001b[39m.\u001b[39mshould_sync:\n\u001b[0;32m   1566\u001b[0m         context\u001b[39m.\u001b[39masync_wait()\n",
            "File \u001b[1;32mc:\\Users\\nelso\\anaconda3\\envs\\gesture_env\\lib\\site-packages\\tensorflow\\python\\util\\traceback_utils.py:150\u001b[0m, in \u001b[0;36mfilter_traceback.<locals>.error_handler\u001b[1;34m(*args, **kwargs)\u001b[0m\n\u001b[0;32m    148\u001b[0m filtered_tb \u001b[39m=\u001b[39m \u001b[39mNone\u001b[39;00m\n\u001b[0;32m    149\u001b[0m \u001b[39mtry\u001b[39;00m:\n\u001b[1;32m--> 150\u001b[0m   \u001b[39mreturn\u001b[39;00m fn(\u001b[39m*\u001b[39margs, \u001b[39m*\u001b[39m\u001b[39m*\u001b[39mkwargs)\n\u001b[0;32m    151\u001b[0m \u001b[39mexcept\u001b[39;00m \u001b[39mException\u001b[39;00m \u001b[39mas\u001b[39;00m e:\n\u001b[0;32m    152\u001b[0m   filtered_tb \u001b[39m=\u001b[39m _process_traceback_frames(e\u001b[39m.\u001b[39m__traceback__)\n",
            "File \u001b[1;32mc:\\Users\\nelso\\anaconda3\\envs\\gesture_env\\lib\\site-packages\\tensorflow\\python\\eager\\def_function.py:915\u001b[0m, in \u001b[0;36mFunction.__call__\u001b[1;34m(self, *args, **kwds)\u001b[0m\n\u001b[0;32m    912\u001b[0m compiler \u001b[39m=\u001b[39m \u001b[39m\"\u001b[39m\u001b[39mxla\u001b[39m\u001b[39m\"\u001b[39m \u001b[39mif\u001b[39;00m \u001b[39mself\u001b[39m\u001b[39m.\u001b[39m_jit_compile \u001b[39melse\u001b[39;00m \u001b[39m\"\u001b[39m\u001b[39mnonXla\u001b[39m\u001b[39m\"\u001b[39m\n\u001b[0;32m    914\u001b[0m \u001b[39mwith\u001b[39;00m OptionalXlaContext(\u001b[39mself\u001b[39m\u001b[39m.\u001b[39m_jit_compile):\n\u001b[1;32m--> 915\u001b[0m   result \u001b[39m=\u001b[39m \u001b[39mself\u001b[39m\u001b[39m.\u001b[39m_call(\u001b[39m*\u001b[39margs, \u001b[39m*\u001b[39m\u001b[39m*\u001b[39mkwds)\n\u001b[0;32m    917\u001b[0m new_tracing_count \u001b[39m=\u001b[39m \u001b[39mself\u001b[39m\u001b[39m.\u001b[39mexperimental_get_tracing_count()\n\u001b[0;32m    918\u001b[0m without_tracing \u001b[39m=\u001b[39m (tracing_count \u001b[39m==\u001b[39m new_tracing_count)\n",
            "File \u001b[1;32mc:\\Users\\nelso\\anaconda3\\envs\\gesture_env\\lib\\site-packages\\tensorflow\\python\\eager\\def_function.py:947\u001b[0m, in \u001b[0;36mFunction._call\u001b[1;34m(self, *args, **kwds)\u001b[0m\n\u001b[0;32m    944\u001b[0m   \u001b[39mself\u001b[39m\u001b[39m.\u001b[39m_lock\u001b[39m.\u001b[39mrelease()\n\u001b[0;32m    945\u001b[0m   \u001b[39m# In this case we have created variables on the first call, so we run the\u001b[39;00m\n\u001b[0;32m    946\u001b[0m   \u001b[39m# defunned version which is guaranteed to never create variables.\u001b[39;00m\n\u001b[1;32m--> 947\u001b[0m   \u001b[39mreturn\u001b[39;00m \u001b[39mself\u001b[39m\u001b[39m.\u001b[39m_stateless_fn(\u001b[39m*\u001b[39margs, \u001b[39m*\u001b[39m\u001b[39m*\u001b[39mkwds)  \u001b[39m# pylint: disable=not-callable\u001b[39;00m\n\u001b[0;32m    948\u001b[0m \u001b[39melif\u001b[39;00m \u001b[39mself\u001b[39m\u001b[39m.\u001b[39m_stateful_fn \u001b[39mis\u001b[39;00m \u001b[39mnot\u001b[39;00m \u001b[39mNone\u001b[39;00m:\n\u001b[0;32m    949\u001b[0m   \u001b[39m# Release the lock early so that multiple threads can perform the call\u001b[39;00m\n\u001b[0;32m    950\u001b[0m   \u001b[39m# in parallel.\u001b[39;00m\n\u001b[0;32m    951\u001b[0m   \u001b[39mself\u001b[39m\u001b[39m.\u001b[39m_lock\u001b[39m.\u001b[39mrelease()\n",
            "File \u001b[1;32mc:\\Users\\nelso\\anaconda3\\envs\\gesture_env\\lib\\site-packages\\tensorflow\\python\\eager\\function.py:2496\u001b[0m, in \u001b[0;36mFunction.__call__\u001b[1;34m(self, *args, **kwargs)\u001b[0m\n\u001b[0;32m   2493\u001b[0m \u001b[39mwith\u001b[39;00m \u001b[39mself\u001b[39m\u001b[39m.\u001b[39m_lock:\n\u001b[0;32m   2494\u001b[0m   (graph_function,\n\u001b[0;32m   2495\u001b[0m    filtered_flat_args) \u001b[39m=\u001b[39m \u001b[39mself\u001b[39m\u001b[39m.\u001b[39m_maybe_define_function(args, kwargs)\n\u001b[1;32m-> 2496\u001b[0m \u001b[39mreturn\u001b[39;00m graph_function\u001b[39m.\u001b[39;49m_call_flat(\n\u001b[0;32m   2497\u001b[0m     filtered_flat_args, captured_inputs\u001b[39m=\u001b[39;49mgraph_function\u001b[39m.\u001b[39;49mcaptured_inputs)\n",
            "File \u001b[1;32mc:\\Users\\nelso\\anaconda3\\envs\\gesture_env\\lib\\site-packages\\tensorflow\\python\\eager\\function.py:1862\u001b[0m, in \u001b[0;36mConcreteFunction._call_flat\u001b[1;34m(self, args, captured_inputs, cancellation_manager)\u001b[0m\n\u001b[0;32m   1858\u001b[0m possible_gradient_type \u001b[39m=\u001b[39m gradients_util\u001b[39m.\u001b[39mPossibleTapeGradientTypes(args)\n\u001b[0;32m   1859\u001b[0m \u001b[39mif\u001b[39;00m (possible_gradient_type \u001b[39m==\u001b[39m gradients_util\u001b[39m.\u001b[39mPOSSIBLE_GRADIENT_TYPES_NONE\n\u001b[0;32m   1860\u001b[0m     \u001b[39mand\u001b[39;00m executing_eagerly):\n\u001b[0;32m   1861\u001b[0m   \u001b[39m# No tape is watching; skip to running the function.\u001b[39;00m\n\u001b[1;32m-> 1862\u001b[0m   \u001b[39mreturn\u001b[39;00m \u001b[39mself\u001b[39m\u001b[39m.\u001b[39m_build_call_outputs(\u001b[39mself\u001b[39;49m\u001b[39m.\u001b[39;49m_inference_function\u001b[39m.\u001b[39;49mcall(\n\u001b[0;32m   1863\u001b[0m       ctx, args, cancellation_manager\u001b[39m=\u001b[39;49mcancellation_manager))\n\u001b[0;32m   1864\u001b[0m forward_backward \u001b[39m=\u001b[39m \u001b[39mself\u001b[39m\u001b[39m.\u001b[39m_select_forward_and_backward_functions(\n\u001b[0;32m   1865\u001b[0m     args,\n\u001b[0;32m   1866\u001b[0m     possible_gradient_type,\n\u001b[0;32m   1867\u001b[0m     executing_eagerly)\n\u001b[0;32m   1868\u001b[0m forward_function, args_with_tangents \u001b[39m=\u001b[39m forward_backward\u001b[39m.\u001b[39mforward()\n",
            "File \u001b[1;32mc:\\Users\\nelso\\anaconda3\\envs\\gesture_env\\lib\\site-packages\\tensorflow\\python\\eager\\function.py:499\u001b[0m, in \u001b[0;36m_EagerDefinedFunction.call\u001b[1;34m(self, ctx, args, cancellation_manager)\u001b[0m\n\u001b[0;32m    497\u001b[0m \u001b[39mwith\u001b[39;00m _InterpolateFunctionError(\u001b[39mself\u001b[39m):\n\u001b[0;32m    498\u001b[0m   \u001b[39mif\u001b[39;00m cancellation_manager \u001b[39mis\u001b[39;00m \u001b[39mNone\u001b[39;00m:\n\u001b[1;32m--> 499\u001b[0m     outputs \u001b[39m=\u001b[39m execute\u001b[39m.\u001b[39;49mexecute(\n\u001b[0;32m    500\u001b[0m         \u001b[39mstr\u001b[39;49m(\u001b[39mself\u001b[39;49m\u001b[39m.\u001b[39;49msignature\u001b[39m.\u001b[39;49mname),\n\u001b[0;32m    501\u001b[0m         num_outputs\u001b[39m=\u001b[39;49m\u001b[39mself\u001b[39;49m\u001b[39m.\u001b[39;49m_num_outputs,\n\u001b[0;32m    502\u001b[0m         inputs\u001b[39m=\u001b[39;49margs,\n\u001b[0;32m    503\u001b[0m         attrs\u001b[39m=\u001b[39;49mattrs,\n\u001b[0;32m    504\u001b[0m         ctx\u001b[39m=\u001b[39;49mctx)\n\u001b[0;32m    505\u001b[0m   \u001b[39melse\u001b[39;00m:\n\u001b[0;32m    506\u001b[0m     outputs \u001b[39m=\u001b[39m execute\u001b[39m.\u001b[39mexecute_with_cancellation(\n\u001b[0;32m    507\u001b[0m         \u001b[39mstr\u001b[39m(\u001b[39mself\u001b[39m\u001b[39m.\u001b[39msignature\u001b[39m.\u001b[39mname),\n\u001b[0;32m    508\u001b[0m         num_outputs\u001b[39m=\u001b[39m\u001b[39mself\u001b[39m\u001b[39m.\u001b[39m_num_outputs,\n\u001b[1;32m   (...)\u001b[0m\n\u001b[0;32m    511\u001b[0m         ctx\u001b[39m=\u001b[39mctx,\n\u001b[0;32m    512\u001b[0m         cancellation_manager\u001b[39m=\u001b[39mcancellation_manager)\n",
            "File \u001b[1;32mc:\\Users\\nelso\\anaconda3\\envs\\gesture_env\\lib\\site-packages\\tensorflow\\python\\eager\\execute.py:54\u001b[0m, in \u001b[0;36mquick_execute\u001b[1;34m(op_name, num_outputs, inputs, attrs, ctx, name)\u001b[0m\n\u001b[0;32m     52\u001b[0m \u001b[39mtry\u001b[39;00m:\n\u001b[0;32m     53\u001b[0m   ctx\u001b[39m.\u001b[39mensure_initialized()\n\u001b[1;32m---> 54\u001b[0m   tensors \u001b[39m=\u001b[39m pywrap_tfe\u001b[39m.\u001b[39;49mTFE_Py_Execute(ctx\u001b[39m.\u001b[39;49m_handle, device_name, op_name,\n\u001b[0;32m     55\u001b[0m                                       inputs, attrs, num_outputs)\n\u001b[0;32m     56\u001b[0m \u001b[39mexcept\u001b[39;00m core\u001b[39m.\u001b[39m_NotOkStatusException \u001b[39mas\u001b[39;00m e:\n\u001b[0;32m     57\u001b[0m   \u001b[39mif\u001b[39;00m name \u001b[39mis\u001b[39;00m \u001b[39mnot\u001b[39;00m \u001b[39mNone\u001b[39;00m:\n",
            "\u001b[1;31mKeyboardInterrupt\u001b[0m: "
          ]
        }
      ],
      "source": [
        "# Función objetivo para la optimización de hiperparámetros\n",
        "def objective():\n",
        "    units_lstm = 128\n",
        "    units_oculta = 128\n",
        "    dropout = 0.5\n",
        "\n",
        "    modelo = Sequential()\n",
        "    modelo.add(Bidirectional(LSTM(units=units_lstm, return_sequences=True)))\n",
        "    modelo.add(BatchNormalization())\n",
        "    modelo.add(Dropout(dropout))\n",
        "    modelo.add(TimeDistributed(Dense(units=units_oculta, activation='relu')))\n",
        "    modelo.add(Flatten())\n",
        "    modelo.add(Dense(units=10, activation='softmax'))\n",
        "\n",
        "    modelo.compile(loss='categorical_crossentropy', optimizer='adam', metrics=['accuracy'])\n",
        "\n",
        "    #es = EarlyStopping(monitor='val_loss', patience=3) \n",
        "\n",
        "    modelo.fit(X_train, y_train, validation_data=(X_test, y_test), epochs=10, batch_size=32, verbose=1)\n",
        "\n",
        "    y_pred = modelo.predict(X_test)\n",
        "    y_pred = np.argmax(y_pred, axis=1)\n",
        "    accuracy = accuracy_score(np.argmax(y_test, axis=1), y_pred)\n",
        "\n",
        "    return accuracy\n",
        "\n",
        "# Ejecutar la función objetivo sin optimización de hiperparámetros\n",
        "mejor_resultado = objective()\n",
        "\n",
        "print(\"Mejor resultado:\", mejor_resultado)\n"
      ]
    },
    {
      "attachments": {},
      "cell_type": "markdown",
      "metadata": {
        "id": "H29UtuIEhNNc"
      },
      "source": [
        "Configuración del PC para correr en local\n",
        "\n",
        "Shuffle \n",
        "\n",
        "Hiperparámetros"
      ]
    }
  ],
  "metadata": {
    "colab": {
      "provenance": []
    },
    "kernelspec": {
      "display_name": "Python 3",
      "name": "python3"
    },
    "language_info": {
      "codemirror_mode": {
        "name": "ipython",
        "version": 3
      },
      "file_extension": ".py",
      "mimetype": "text/x-python",
      "name": "python",
      "nbconvert_exporter": "python",
      "pygments_lexer": "ipython3",
      "version": "3.10.11"
    }
  },
  "nbformat": 4,
  "nbformat_minor": 0
}
